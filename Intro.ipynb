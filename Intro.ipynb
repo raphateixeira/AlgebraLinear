{
 "cells": [
  {
   "cell_type": "markdown",
   "id": "dd671b55",
   "metadata": {
    "slideshow": {
     "slide_type": "slide"
    }
   },
   "source": [
    "# Álgebra Linear\n",
    "\n",
    "Prof. Dr. Raphael Teixeira\n",
    "\n",
    "UFPA - CAMTUC - FEE\n",
    "\n",
    "raphaelbt@ufpa.br\n",
    "\n",
    "![SVG Image](img0/LA0.svg)\n",
    "\n"
   ]
  },
  {
   "cell_type": "markdown",
   "id": "39dfa2e4",
   "metadata": {
    "slideshow": {
     "slide_type": "slide"
    }
   },
   "source": [
    "\\begin{align}\n",
    "\\begin{bmatrix}\n",
    "a_{11} & a_{12} \\\\\n",
    "a_{21} & a_{22}\n",
    "\\end{bmatrix}\n",
    "\\begin{bmatrix}\n",
    "x_1 \\\\\n",
    "x_2\n",
    "\\end{bmatrix}\n",
    "=\n",
    "\\begin{bmatrix}\n",
    "b_1 \\\\\n",
    "b_2\n",
    "\\end{bmatrix}\n",
    "\\end{align}\n",
    "\n",
    "\\begin{align}\n",
    "\\begin{bmatrix}\n",
    "2 & 1 \\\\\n",
    "3 & 4\n",
    "\\end{bmatrix}\n",
    "\\begin{bmatrix}\n",
    "x_1 \\\\\n",
    "x_2\n",
    "\\end{bmatrix}\n",
    "=\n",
    "\\begin{bmatrix}\n",
    "5 \\\\\n",
    "6\n",
    "\\end{bmatrix}\n",
    "\\end{align}"
   ]
  },
  {
   "cell_type": "markdown",
   "id": "333970cb",
   "metadata": {
    "slideshow": {
     "slide_type": "slide"
    }
   },
   "source": [
    "### Equação linear\n",
    "\n",
    "*É uma expressão matemática da forma:*\n",
    "\n",
    "\\begin{align}\\nonumber\n",
    "a_1x_1 + a_2x_2 + \\dots + a_nx_n = b\n",
    "\\end{align}\n",
    "\n",
    "Onde:\n",
    " - $(a_1, a_2, \\dots, a_n ) \\in \\mathbb{R}$ são coeficientes da equação;\n",
    " - $( x_1, x_2, \\dots, x_n )$ são as variáveis da equação;\n",
    " - $b \\in \\mathbb{R}$ é o termo constante.\n"
   ]
  },
  {
   "cell_type": "markdown",
   "id": "8bb91215",
   "metadata": {
    "slideshow": {
     "slide_type": "slide"
    }
   },
   "source": [
    "Uma equação linear simples:\n",
    "\n",
    "$2x = 8$\n",
    "\n",
    "\n"
   ]
  },
  {
   "cell_type": "markdown",
   "id": "a461f2ce",
   "metadata": {
    "slideshow": {
     "slide_type": "subslide"
    }
   },
   "source": [
    "Solução:\n",
    "\n",
    "$x = \\frac{8}{2} = 4$"
   ]
  },
  {
   "cell_type": "markdown",
   "id": "414f6463",
   "metadata": {
    "slideshow": {
     "slide_type": "slide"
    }
   },
   "source": [
    "Um novo slide agora com um código python"
   ]
  },
  {
   "cell_type": "code",
   "execution_count": 9,
   "id": "d793a58e",
   "metadata": {},
   "outputs": [
    {
     "name": "stdout",
     "output_type": "stream",
     "text": [
      "[0 1 2 3 4]\n"
     ]
    }
   ],
   "source": [
    "import numpy as np\n",
    "x = np.arange(0,5)\n",
    "print(x)"
   ]
  }
 ],
 "metadata": {
  "kernelspec": {
   "display_name": "Python 3",
   "language": "python",
   "name": "python3"
  },
  "language_info": {
   "codemirror_mode": {
    "name": "ipython",
    "version": 3
   },
   "file_extension": ".py",
   "mimetype": "text/x-python",
   "name": "python",
   "nbconvert_exporter": "python",
   "pygments_lexer": "ipython3",
   "version": "3.13.0"
  }
 },
 "nbformat": 4,
 "nbformat_minor": 5
}
